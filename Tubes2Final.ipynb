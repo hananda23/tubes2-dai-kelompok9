{
  "cells": [
    {
      "cell_type": "markdown",
      "metadata": {
        "id": "uR1JW69eLfG_"
      },
      "source": [
        "# IF3070 Foundations of Artificial Intelligence | Tugas Besar 2\n",
        "\n",
        "This notebook serves as a template for the assignment. Please create a copy of this notebook to complete your work. You can add more code blocks, markdown blocks, or new sections if needed.\n"
      ]
    },
    {
      "cell_type": "markdown",
      "metadata": {
        "id": "ucbaI5rBLtjJ"
      },
      "source": [
        "Group Number: 09\n",
        "\n",
        "Group Members:\n",
        "- Ananda Farhan Raihandra (18222084)\n",
        "- Alfaza Naufal Zakiy (18222126)"
      ]
    },
    {
      "cell_type": "code",
      "execution_count": null,
      "metadata": {},
      "outputs": [],
      "source": [
        "%pip install imbalanced-learn"
      ]
    },
    {
      "cell_type": "code",
      "execution_count": null,
      "metadata": {},
      "outputs": [],
      "source": [
        "%pip install tqdm"
      ]
    },
    {
      "cell_type": "markdown",
      "metadata": {
        "id": "GwzsfETHLfHA"
      },
      "source": [
        "## Import Libraries"
      ]
    },
    {
      "cell_type": "code",
      "execution_count": 7,
      "metadata": {
        "id": "jZJU5W_4LfHB"
      },
      "outputs": [],
      "source": [
        "# Pustaka untuk manipulasi data\n",
        "import pandas as pd\n",
        "import numpy as np\n",
        "\n",
        "# Pustaka untuk data splitting dan evaluasi\n",
        "from sklearn.model_selection import train_test_split\n",
        "from sklearn.metrics import accuracy_score, precision_score, recall_score, f1_score, roc_auc_score, classification_report\n",
        "\n",
        "# Implementasi algoritma scikit-learn\n",
        "from sklearn.neighbors import KNeighborsClassifier  # KNN dari scikit-learn\n",
        "from sklearn.naive_bayes import GaussianNB  # Gaussian Naive Bayes dari scikit-learn\n",
        "from sklearn.impute import SimpleImputer\n",
        "from sklearn.preprocessing import MinMaxScaler\n",
        "from sklearn.preprocessing import LabelEncoder\n",
        "from imblearn.over_sampling import SMOTE\n",
        "from collections import Counter\n",
        "from tqdm import tqdm\n"
      ]
    },
    {
      "cell_type": "markdown",
      "metadata": {
        "id": "OKbjLIdYLfHC"
      },
      "source": [
        "## Import Dataset"
      ]
    },
    {
      "cell_type": "code",
      "execution_count": 3,
      "metadata": {
        "id": "-IWFJ-gdLfHD"
      },
      "outputs": [],
      "source": [
        "# Load Dataset\n",
        "train_data = pd.read_csv('train.csv')\n",
        "test_data = pd.read_csv('test.csv')\n",
        "submission_template = pd.read_csv('sample_submission.csv')"
      ]
    },
    {
      "cell_type": "markdown",
      "metadata": {
        "id": "gvx-gT3bLfHM"
      },
      "source": [
        "# 1. Split Training Set and Validation Set\n",
        "\n",
        "Splitting the training and validation set works as an early diagnostic towards the performance of the model we train. This is done before the preprocessing steps to **avoid data leakage inbetween the sets**. If you want to use k-fold cross-validation, split the data later and do the cleaning and preprocessing separately for each split.\n",
        "\n",
        "Note: For training, you should use the data contained in the `train` folder given by the TA. The `test` data is only used for kaggle submission."
      ]
    },
    {
      "cell_type": "code",
      "execution_count": 4,
      "metadata": {
        "id": "4yWCUFFBLfHM"
      },
      "outputs": [
        {
          "name": "stdout",
          "output_type": "stream",
          "text": [
            "Data latih: (112323, 55)\n",
            "Data validasi: (28081, 55)\n"
          ]
        }
      ],
      "source": [
        "# Split training set and validation set here, store into variables train_set and val_set.\n",
        "# Remember to also keep the original training set before splitting. This will come important later.\n",
        "# train_set, val_set = ...\n",
        "\n",
        "# Pilih fitur (X) dan target (y)\n",
        "LABEL = 'label'  # Nama kolom target\n",
        "X = train_data.drop(columns=[LABEL])  # Data fitur\n",
        "y = train_data[LABEL]  # Data target\n",
        "\n",
        "# Split data menjadi data latih dan validasi\n",
        "X_train, X_val, y_train, y_val = train_test_split(X, y, test_size=0.2, random_state=42)\n",
        "\n",
        "print(\"Data latih:\", X_train.shape)\n",
        "print(\"Data validasi:\", X_val.shape)\n"
      ]
    },
    {
      "cell_type": "markdown",
      "metadata": {
        "id": "IC14lmo_LfHN"
      },
      "source": [
        "# 2. Data Cleaning and Preprocessing\n",
        "\n",
        "This step is the first thing to be done once a Data Scientist have grasped a general knowledge of the data. Raw data is **seldom ready for training**, therefore steps need to be taken to clean and format the data for the Machine Learning model to interpret.\n",
        "\n",
        "By performing data cleaning and preprocessing, you ensure that your dataset is ready for model training, leading to more accurate and reliable machine learning results. These steps are essential for transforming raw data into a format that machine learning algorithms can effectively learn from and make predictions.\n",
        "\n",
        "We will give some common methods for you to try, but you only have to **at least implement one method for each process**. For each step that you will do, **please explain the reason why did you do that process. Write it in a markdown cell under the code cell you wrote.**"
      ]
    },
    {
      "cell_type": "markdown",
      "metadata": {
        "id": "p95_A8hSLfHY"
      },
      "source": [
        "## A. Data Cleaning\n",
        "\n",
        "**Data cleaning** is the crucial first step in preparing your dataset for machine learning. Raw data collected from various sources is often messy and may contain errors, missing values, and inconsistencies. Data cleaning involves the following steps:\n",
        "\n",
        "1. **Handling Missing Data:** Identify and address missing values in the dataset. This can include imputing missing values, removing rows or columns with excessive missing data, or using more advanced techniques like interpolation.\n",
        "\n",
        "2. **Dealing with Outliers:** Identify and handle outliers, which are data points significantly different from the rest of the dataset. Outliers can be removed or transformed to improve model performance.\n",
        "\n",
        "3. **Data Validation:** Check for data integrity and consistency. Ensure that data types are correct, categorical variables have consistent labels, and numerical values fall within expected ranges.\n",
        "\n",
        "4. **Removing Duplicates:** Identify and remove duplicate rows, as they can skew the model's training process and evaluation metrics.\n",
        "\n",
        "5. **Feature Engineering**: Create new features or modify existing ones to extract relevant information. This step can involve scaling, normalizing, or encoding features for better model interpretability."
      ]
    },
    {
      "cell_type": "markdown",
      "metadata": {
        "id": "_wruGao9LfHZ"
      },
      "source": [
        "### I. Handling Missing Data\n",
        "\n",
        "Missing data can adversely affect the performance and accuracy of machine learning models. There are several strategies to handle missing data in machine learning:\n",
        "\n",
        "1. **Data Imputation:**\n",
        "\n",
        "    a. **Mean, Median, or Mode Imputation:** For numerical features, you can replace missing values with the mean, median, or mode of the non-missing values in the same feature. This method is simple and often effective when data is missing at random.\n",
        "\n",
        "    b. **Constant Value Imputation:** You can replace missing values with a predefined constant value (e.g., 0) if it makes sense for your dataset and problem.\n",
        "\n",
        "    c. **Imputation Using Predictive Models:** More advanced techniques involve using predictive models to estimate missing values. For example, you can train a regression model to predict missing numerical values or a classification model to predict missing categorical values.\n",
        "\n",
        "2. **Deletion of Missing Data:**\n",
        "\n",
        "    a. **Listwise Deletion:** In cases where the amount of missing data is relatively small, you can simply remove rows with missing values from your dataset. However, this approach can lead to a loss of valuable information.\n",
        "\n",
        "    b. **Column (Feature) Deletion:** If a feature has a large number of missing values and is not critical for your analysis, you can consider removing that feature altogether.\n",
        "\n",
        "3. **Domain-Specific Strategies:**\n",
        "\n",
        "    a. **Domain Knowledge:** In some cases, domain knowledge can guide the imputation process. For example, if you know that missing values are related to a specific condition, you can impute them accordingly.\n",
        "\n",
        "4. **Imputation Libraries:**\n",
        "\n",
        "    a. **Scikit-Learn:** Scikit-Learn provides a `SimpleImputer` class that can handle basic imputation strategies like mean, median, and mode imputation.\n",
        "\n",
        "    b. **Fancyimpute:** Fancyimpute is a Python library that offers more advanced imputation techniques, including matrix factorization, k-nearest neighbors, and deep learning-based methods.\n",
        "\n",
        "The choice of imputation method should be guided by the nature of your data, the amount of missing data, the problem you are trying to solve, and the assumptions you are willing to make."
      ]
    },
    {
      "cell_type": "code",
      "execution_count": 5,
      "metadata": {
        "id": "ucZNfCkiLfHZ"
      },
      "outputs": [
        {
          "name": "stdout",
          "output_type": "stream",
          "text": [
            "Missing values in training set: 0\n",
            "Missing values in validation set: 0\n"
          ]
        }
      ],
      "source": [
        "# Write your code here\n",
        "\n",
        "\n",
        "# Membuat objek SimpleImputer untuk imputasi data\n",
        "numerical_imputer = SimpleImputer(strategy='mean')  # Untuk nilai numerik, gunakan mean\n",
        "categorical_imputer = SimpleImputer(strategy='most_frequent')  # Untuk nilai kategori, gunakan nilai yang paling sering muncul\n",
        "\n",
        "# Identifikasi kolom numerik dan kategori\n",
        "numerical_cols = X_train.select_dtypes(include=['float64', 'int64']).columns\n",
        "categorical_cols = X_train.select_dtypes(include=['object']).columns\n",
        "\n",
        "# Imputasi data latih\n",
        "X_train[numerical_cols] = numerical_imputer.fit_transform(X_train[numerical_cols])\n",
        "X_train[categorical_cols] = categorical_imputer.fit_transform(X_train[categorical_cols])\n",
        "\n",
        "# Imputasi data validasi\n",
        "X_val[numerical_cols] = numerical_imputer.transform(X_val[numerical_cols])\n",
        "X_val[categorical_cols] = categorical_imputer.transform(X_val[categorical_cols])\n",
        "\n",
        "# Mengecek apakah ada missing value yang tersisa\n",
        "print(\"Missing values in training set:\", X_train.isnull().sum().sum())\n",
        "print(\"Missing values in validation set:\", X_val.isnull().sum().sum())\n"
      ]
    },
    {
      "cell_type": "markdown",
      "metadata": {
        "id": "zgrSMcK75VY_"
      },
      "source": [
        "### II. Dealing with Outliers\n",
        "\n",
        "Outliers are data points that significantly differ from the majority of the data. They can be unusually high or low values that do not fit the pattern of the rest of the dataset. Outliers can significantly impact model performance, so it is important to handle them properly.\n",
        "\n",
        "Some methods to handle outliers:\n",
        "1. **Imputation**: Replace with mean, median, or a boundary value.\n",
        "2. **Clipping**: Cap values to upper and lower limits.\n",
        "3. **Transformation**: Use log, square root, or power transformations to reduce their influence.\n",
        "4. **Model-Based**: Use algorithms robust to outliers (e.g., tree-based models, Huber regression)."
      ]
    },
    {
      "cell_type": "code",
      "execution_count": 463,
      "metadata": {
        "id": "CgbZ6Lv17Uf0"
      },
      "outputs": [
        {
          "name": "stdout",
          "output_type": "stream",
          "text": [
            "Outlier handling selesai.\n"
          ]
        }
      ],
      "source": [
        "# Write your code here\n",
        "# Menangani Outlier dengan Clipping\n",
        "# Menentukan batas bawah dan atas berdasarkan persentil\n",
        "lower_bound = 0.01  # Batas bawah 1%\n",
        "upper_bound = 0.99  # Batas atas 99%\n",
        "\n",
        "# Identifikasi kolom numerik\n",
        "numerical_cols = X_train.select_dtypes(include=['float64', 'int64']).columns\n",
        "\n",
        "# Melakukan clipping pada data latih\n",
        "for col in numerical_cols:\n",
        "    low = X_train[col].quantile(lower_bound)\n",
        "    high = X_train[col].quantile(upper_bound)\n",
        "    X_train[col] = X_train[col].clip(lower=low, upper=high)\n",
        "\n",
        "# Melakukan clipping pada data validasi\n",
        "for col in numerical_cols:\n",
        "    low = X_val[col].quantile(lower_bound)\n",
        "    high = X_val[col].quantile(upper_bound)\n",
        "    X_val[col] = X_val[col].clip(lower=low, upper=high)\n",
        "\n",
        "# Mengecek apakah ada outlier yang tersisa\n",
        "print(\"Outlier handling selesai.\")\n"
      ]
    },
    {
      "cell_type": "markdown",
      "metadata": {
        "id": "aO0ZEZ-s6Lu-"
      },
      "source": [
        "### III. Remove Duplicates\n",
        "Handling duplicate values is crucial because they can compromise data integrity, leading to inaccurate analysis and insights. Duplicate entries can bias machine learning models, causing overfitting and reducing their ability to generalize to new data. They also inflate the dataset size unnecessarily, increasing computational costs and processing times. Additionally, duplicates can distort statistical measures and lead to inconsistencies, ultimately affecting the reliability of data-driven decisions and reporting. Ensuring data quality by removing duplicates is essential for accurate, efficient, and consistent analysis."
      ]
    },
    {
      "cell_type": "code",
      "execution_count": 464,
      "metadata": {
        "id": "BHCkkZ-v7iF8"
      },
      "outputs": [
        {
          "name": "stdout",
          "output_type": "stream",
          "text": [
            "Data latih sebelum: (112323, 55), setelah: (112323, 55)\n",
            "Data validasi sebelum: (28081, 55), setelah: (28081, 55)\n"
          ]
        }
      ],
      "source": [
        "# Write your code here\n",
        "# Menghapus duplikat dari data latih\n",
        "initial_train_shape = X_train.shape  # Menyimpan bentuk awal data\n",
        "X_train = X_train.drop_duplicates(keep='first')\n",
        "y_train = y_train.loc[X_train.index]  # Menyesuaikan label dengan data fitur\n",
        "\n",
        "# Menghapus duplikat dari data validasi\n",
        "initial_val_shape = X_val.shape\n",
        "X_val = X_val.drop_duplicates(keep='first')\n",
        "y_val = y_val.loc[X_val.index]  # Menyesuaikan label dengan data fitur\n",
        "\n",
        "# Menampilkan hasil penghapusan duplikat\n",
        "print(f\"Data latih sebelum: {initial_train_shape}, setelah: {X_train.shape}\")\n",
        "print(f\"Data validasi sebelum: {initial_val_shape}, setelah: {X_val.shape}\")\n"
      ]
    },
    {
      "cell_type": "markdown",
      "metadata": {
        "id": "eycPASmMLfHa"
      },
      "source": [
        "### IV. Feature Engineering\n",
        "\n",
        "**Feature engineering** involves creating new features (input variables) or transforming existing ones to improve the performance of machine learning models. Feature engineering aims to enhance the model's ability to learn patterns and make accurate predictions from the data. It's often said that \"good features make good models.\"\n",
        "\n",
        "1. **Feature Selection:** Feature engineering can involve selecting the most relevant and informative features from the dataset. Removing irrelevant or redundant features not only simplifies the model but also reduces the risk of overfitting.\n",
        "\n",
        "2. **Creating New Features:** Sometimes, the existing features may not capture the underlying patterns effectively. In such cases, engineers create new features that provide additional information. For example:\n",
        "   \n",
        "   - **Polynomial Features:** Engineers may create new features by taking the square, cube, or other higher-order terms of existing numerical features. This can help capture nonlinear relationships.\n",
        "   \n",
        "   - **Interaction Features:** Interaction features are created by combining two or more existing features. For example, if you have features \"length\" and \"width,\" you can create an \"area\" feature by multiplying them.\n",
        "\n",
        "3. **Binning or Discretization:** Continuous numerical features can be divided into bins or categories. For instance, age values can be grouped into bins like \"child,\" \"adult,\" and \"senior.\"\n",
        "\n",
        "4. **Domain-Specific Feature Engineering:** Depending on the domain and problem, engineers may create domain-specific features. For example, in fraud detection, features related to transaction history and user behavior may be engineered to identify anomalies.\n",
        "\n",
        "Feature engineering is both a creative and iterative process. It requires a deep understanding of the data, domain knowledge, and experimentation to determine which features will enhance the model's predictive power."
      ]
    },
    {
      "cell_type": "code",
      "execution_count": 465,
      "metadata": {
        "id": "UoXEV6wkLfHa"
      },
      "outputs": [
        {
          "name": "stdout",
          "output_type": "stream",
          "text": [
            "Feature engineering selesai. Dimensi data latih: (112323, 111)\n"
          ]
        }
      ],
      "source": [
        "# Handling Missing Values untuk URL\n",
        "X_train['URL'] = X_train['URL'].fillna('')  # Mengisi NaN dengan string kosong\n",
        "X_val['URL'] = X_val['URL'].fillna('')      # Mengisi NaN dengan string kosong\n",
        "\n",
        "# Menambahkan Fitur Baru Berdasarkan URL\n",
        "X_train['URL_Length'] = X_train['URL'].apply(lambda x: len(str(x)))\n",
        "X_train['Digit_Count'] = X_train['URL'].apply(lambda x: sum(c.isdigit() for c in str(x)))\n",
        "X_train['Special_Char_Count'] = X_train['URL'].apply(lambda x: sum(1 for c in str(x) if c in ['@', '#', '/', '?', '=', '&']))\n",
        "X_val['URL_Length'] = X_val['URL'].apply(lambda x: len(str(x)))\n",
        "X_val['Digit_Count'] = X_val['URL'].apply(lambda x: sum(c.isdigit() for c in str(x)))\n",
        "X_val['Special_Char_Count'] = X_val['URL'].apply(lambda x: sum(1 for c in str(x) if c in ['@', '#', '/', '?', '=', '&']))\n",
        "\n",
        "# Menambahkan Statistik pada Kolom Numerik\n",
        "numerical_cols = X_train.select_dtypes(include=['float64', 'int64']).columns\n",
        "for col in numerical_cols:\n",
        "    X_train[f'{col}_log'] = X_train[col].apply(lambda x: np.log(x + 1) if x > 0 else 0)\n",
        "    X_val[f'{col}_log'] = X_val[col].apply(lambda x: np.log(x + 1) if x > 0 else 0)\n",
        "\n",
        "# Encoding Kolom Kategori (jika ada)\n",
        "categorical_cols = X_train.select_dtypes(include=['object']).columns\n",
        "for col in categorical_cols:\n",
        "    X_train[col] = X_train[col].astype('category').cat.codes\n",
        "    X_val[col] = X_val[col].astype('category').cat.codes\n",
        "\n",
        "# Verifikasi Perubahan pada Data\n",
        "print(\"Feature engineering selesai. Dimensi data latih:\", X_train.shape)\n"
      ]
    },
    {
      "cell_type": "markdown",
      "metadata": {
        "id": "xw11_49xLfHb"
      },
      "source": [
        "## B. Data Preprocessing\n",
        "\n",
        "**Data preprocessing** is a broader step that encompasses both data cleaning and additional transformations to make the data suitable for machine learning algorithms. Its primary goals are:\n",
        "\n",
        "1. **Feature Scaling:** Ensure that numerical features have similar scales. Common techniques include Min-Max scaling (scaling to a specific range) or standardization (mean-centered, unit variance).\n",
        "\n",
        "2. **Encoding Categorical Variables:** Machine learning models typically work with numerical data, so categorical variables need to be encoded. This can be done using one-hot encoding, label encoding, or more advanced methods like target encoding.\n",
        "\n",
        "3. **Handling Imbalanced Classes:** If dealing with imbalanced classes in a binary classification task, apply techniques such as oversampling, undersampling, or using different evaluation metrics to address class imbalance.\n",
        "\n",
        "4. **Dimensionality Reduction:** Reduce the number of features using techniques like Principal Component Analysis (PCA) or feature selection to simplify the model and potentially improve its performance.\n",
        "\n",
        "5. **Normalization:** Normalize data to achieve a standard distribution. This is particularly important for algorithms that assume normally distributed data."
      ]
    },
    {
      "cell_type": "markdown",
      "metadata": {
        "id": "rVyVnA1hLfHd"
      },
      "source": [
        "### Notes on Preprocessing processes\n",
        "\n",
        "It is advised to create functions or classes that have the same/similar type of inputs and outputs, so you can add, remove, or swap the order of the processes easily. You can implement the functions or classes by yourself\n",
        "\n",
        "or\n",
        "\n",
        "use `sklearn` library. To create a new preprocessing component in `sklearn`, implement a corresponding class that includes:\n",
        "1. Inheritance to `BaseEstimator` and `TransformerMixin`\n",
        "2. The method `fit`\n",
        "3. The method `transform`"
      ]
    },
    {
      "cell_type": "code",
      "execution_count": 466,
      "metadata": {
        "id": "WbxHt-5eKz_I"
      },
      "outputs": [],
      "source": [
        "# Example\n",
        "\n",
        "# from sklearn.base import BaseEstimator, TransformerMixin\n",
        "\n",
        "# class FeatureEncoder(BaseEstimator, TransformerMixin):\n",
        "\n",
        "#     def fit(self, X, y=None):\n",
        "\n",
        "#         # Fit the encoder here\n",
        "\n",
        "#         return self\n",
        "\n",
        "#     def transform(self, X):\n",
        "#         X_encoded = X.copy()\n",
        "\n",
        "#         # Encode the categorical variables here\n",
        "\n",
        "#         return X_encoded"
      ]
    },
    {
      "cell_type": "markdown",
      "metadata": {
        "id": "WhCgOl4xLfHb"
      },
      "source": [
        "### I. Feature Scaling\n",
        "\n",
        "**Feature scaling** is a preprocessing technique used in machine learning to standardize the range of independent variables or features of data. The primary goal of feature scaling is to ensure that all features contribute equally to the training process and that machine learning algorithms can work effectively with the data.\n",
        "\n",
        "Here are the main reasons why feature scaling is important:\n",
        "\n",
        "1. **Algorithm Sensitivity:** Many machine learning algorithms are sensitive to the scale of input features. If the scales of features are significantly different, some algorithms may perform poorly or take much longer to converge.\n",
        "\n",
        "2. **Distance-Based Algorithms:** Algorithms that rely on distances or similarities between data points, such as k-nearest neighbors (KNN) and support vector machines (SVM), can be influenced by feature scales. Features with larger scales may dominate the distance calculations.\n",
        "\n",
        "3. **Regularization:** Regularization techniques, like L1 (Lasso) and L2 (Ridge) regularization, add penalty terms based on feature coefficients. Scaling ensures that all features are treated equally in the regularization process.\n",
        "\n",
        "Common methods for feature scaling include:\n",
        "\n",
        "1. **Min-Max Scaling (Normalization):** This method scales features to a specific range, typically [0, 1]. It's done using the following formula:\n",
        "\n",
        "   $$X' = \\frac{X - X_{min}}{X_{max} - X_{min}}$$\n",
        "\n",
        "   - Here, $X$ is the original feature value, $X_{min}$ is the minimum value of the feature, and $X_{max}$ is the maximum value of the feature.  \n",
        "<br />\n",
        "<br />\n",
        "2. **Standardization (Z-score Scaling):** This method scales features to have a mean (average) of 0 and a standard deviation of 1. It's done using the following formula:\n",
        "\n",
        "   $$X' = \\frac{X - \\mu}{\\sigma}$$\n",
        "\n",
        "   - $X$ is the original feature value, $\\mu$ is the mean of the feature, and $\\sigma$ is the standard deviation of the feature.  \n",
        "<br />\n",
        "<br />\n",
        "3. **Robust Scaling:** Robust scaling is a method that scales features to the interquartile range (IQR) and is less affected by outliers. It's calculated as:\n",
        "\n",
        "   $$X' = \\frac{X - Q1}{Q3 - Q1}$$\n",
        "\n",
        "   - $X$ is the original feature value, $Q1$ is the first quartile (25th percentile), and $Q3$ is the third quartile (75th percentile) of the feature.  \n",
        "<br />\n",
        "<br />\n",
        "4. **Log Transformation:** In cases where data is highly skewed or has a heavy-tailed distribution, taking the logarithm of the feature values can help stabilize the variance and improve scaling.\n",
        "\n",
        "The choice of scaling method depends on the characteristics of your data and the requirements of your machine learning algorithm. **Min-max scaling and standardization are the most commonly used techniques and work well for many datasets.**\n",
        "\n",
        "Scaling should be applied separately to each training and test set to prevent data leakage from the test set into the training set. Additionally, **some algorithms may not require feature scaling, particularly tree-based models.**"
      ]
    },
    {
      "cell_type": "code",
      "execution_count": 467,
      "metadata": {
        "id": "COef9EbCLfHb"
      },
      "outputs": [
        {
          "name": "stdout",
          "output_type": "stream",
          "text": [
            "Feature scaling selesai. Contoh data latih setelah scaling:\n",
            "             id  URLLength  DomainLength  IsDomainIP  CharContinuationRate  \\\n",
            "28021  0.192775   0.312805      0.083333         0.0              0.314286   \n",
            "71026  0.504182   0.225806      0.291667         1.0              0.859813   \n",
            "89927  0.642471   0.225806      0.291667         0.0              0.688312   \n",
            "94654  0.676946   0.290323      0.375000         0.0              1.000000   \n",
            "35275  0.245080   0.312805      0.250000         0.0              0.859813   \n",
            "\n",
            "       TLDLegitimateProb  URLCharProb  TLDLength  NoOfSubDomain  \\\n",
            "28021           1.000000     0.620866   0.364555       0.000000   \n",
            "71026           0.531443     0.672369   0.500000       0.000000   \n",
            "89927           0.054347     0.620866   0.364555       0.500000   \n",
            "94654           0.531443     0.809742   0.500000       0.080383   \n",
            "35275           0.531443     0.620866   0.500000       0.080383   \n",
            "\n",
            "       HasObfuscation  ...  HasCopyrightInfo_log  NoOfImage_log  NoOfCSS_log  \\\n",
            "28021             0.0  ...              0.810097       0.625150     0.659062   \n",
            "71026             0.0  ...              1.000000       0.817147     0.638495   \n",
            "89927             1.0  ...              1.000000       0.630930     0.625374   \n",
            "94654             1.0  ...              0.810097       0.682522     0.846863   \n",
            "35275             1.0  ...              1.000000       0.682522     0.638495   \n",
            "\n",
            "       NoOfJS_log  NoOfSelfRef_log  NoOfEmptyRef_log  NoOfExternalRef_log  \\\n",
            "28021    0.689763         0.744580           0.00000             0.829597   \n",
            "71026    0.683833         0.855481           0.00000             0.734092   \n",
            "89927    0.786384         0.744580           0.19824             0.734092   \n",
            "94654    0.767065         0.744781           0.00000             0.734092   \n",
            "35275    0.697629         0.507555           0.00000             0.734092   \n",
            "\n",
            "       URL_Length_log  Digit_Count_log  Special_Char_Count_log  \n",
            "28021        0.057533              0.0                0.000000  \n",
            "71026        0.219760              0.0                0.068832  \n",
            "89927        0.094532              0.0                0.000000  \n",
            "94654        0.107443              0.0                0.000000  \n",
            "35275        0.087714              0.0                0.000000  \n",
            "\n",
            "[5 rows x 106 columns]\n"
          ]
        }
      ],
      "source": [
        "# Write your code here\n",
        "\n",
        "\n",
        "# Identifikasi kolom numerik\n",
        "numerical_cols = X_train.select_dtypes(include=['float64', 'int64']).columns\n",
        "\n",
        "# Inisialisasi scaler\n",
        "scaler = MinMaxScaler()\n",
        "\n",
        "# Scaling pada data latih\n",
        "X_train[numerical_cols] = scaler.fit_transform(X_train[numerical_cols])\n",
        "\n",
        "# Scaling pada data validasi\n",
        "X_val[numerical_cols] = scaler.transform(X_val[numerical_cols])\n",
        "\n",
        "# Verifikasi hasil scaling\n",
        "print(\"Feature scaling selesai. Contoh data latih setelah scaling:\")\n",
        "print(X_train[numerical_cols].head())\n"
      ]
    },
    {
      "cell_type": "markdown",
      "metadata": {
        "id": "f_Lh-4JwLfHc"
      },
      "source": [
        "### II. Feature Encoding\n",
        "\n",
        "**Feature encoding**, also known as **categorical encoding**, is the process of converting categorical data (non-numeric data) into a numerical format so that it can be used as input for machine learning algorithms. Most machine learning models require numerical data for training and prediction, so feature encoding is a critical step in data preprocessing.\n",
        "\n",
        "Categorical data can take various forms, including:\n",
        "\n",
        "1. **Nominal Data:** Categories with no intrinsic order, like colors or country names.  \n",
        "\n",
        "2. **Ordinal Data:** Categories with a meaningful order but not necessarily equidistant, like education levels (e.g., \"high school,\" \"bachelor's,\" \"master's\").\n",
        "\n",
        "There are several common methods for encoding categorical data:\n",
        "\n",
        "1. **Label Encoding:**\n",
        "\n",
        "   - Label encoding assigns a unique integer to each category in a feature.\n",
        "   - It's suitable for ordinal data where there's a clear order among categories.\n",
        "   - For example, if you have an \"education\" feature with values \"high school,\" \"bachelor's,\" and \"master's,\" you can encode them as 0, 1, and 2, respectively.\n",
        "<br />\n",
        "<br />\n",
        "2. **One-Hot Encoding:**\n",
        "\n",
        "   - One-hot encoding creates a binary (0 or 1) column for each category in a nominal feature.\n",
        "   - It's suitable for nominal data where there's no inherent order among categories.\n",
        "   - Each category becomes a new feature, and the presence (1) or absence (0) of a category is indicated for each row.\n",
        "<br />\n",
        "<br />\n",
        "3. **Target Encoding (Mean Encoding):**\n",
        "\n",
        "   - Target encoding replaces each category with the mean of the target variable for that category.\n",
        "   - It's often used for classification problems."
      ]
    },
    {
      "cell_type": "code",
      "execution_count": 468,
      "metadata": {
        "id": "psElSUugLfHc"
      },
      "outputs": [
        {
          "name": "stdout",
          "output_type": "stream",
          "text": [
            "Feature encoding selesai. Contoh data latih setelah encoding:\n",
            "Empty DataFrame\n",
            "Columns: []\n",
            "Index: [28021, 71026, 89927, 94654, 35275]\n"
          ]
        }
      ],
      "source": [
        "# Write your code here\n",
        "\n",
        "\n",
        "# Identifikasi kolom kategori\n",
        "categorical_cols = X_train.select_dtypes(include=['object']).columns\n",
        "\n",
        "# Inisialisasi LabelEncoder\n",
        "label_encoders = {}\n",
        "\n",
        "# Lakukan Label Encoding pada data latih dan validasi\n",
        "for col in categorical_cols:\n",
        "    le = LabelEncoder()\n",
        "    X_train[col] = le.fit_transform(X_train[col].astype(str))  # Encode data latih\n",
        "    X_val[col] = le.transform(X_val[col].astype(str))  # Encode data validasi\n",
        "    label_encoders[col] = le  # Simpan encoder untuk tiap kolom\n",
        "\n",
        "# Verifikasi hasil encoding\n",
        "print(\"Feature encoding selesai. Contoh data latih setelah encoding:\")\n",
        "print(X_train[categorical_cols].head())\n"
      ]
    },
    {
      "cell_type": "code",
      "execution_count": 469,
      "metadata": {},
      "outputs": [
        {
          "name": "stdout",
          "output_type": "stream",
          "text": [
            "             id  FILENAME    URL  URLLength  Domain  DomainLength  IsDomainIP  \\\n",
            "28021  0.192775         0  76839   0.312805    1086      0.083333         0.0   \n",
            "71026  0.504182         0    631   0.225806    1086      0.291667         1.0   \n",
            "89927  0.642471      3350  10979   0.225806    1086      0.291667         0.0   \n",
            "94654  0.676946     23785  45028   0.290323   31571      0.375000         0.0   \n",
            "35275  0.245080         0  58069   0.312805    1086      0.250000         0.0   \n",
            "\n",
            "       TLD  CharContinuationRate  TLDLegitimateProb  ...  \\\n",
            "28021  119              0.314286           1.000000  ...   \n",
            "71026  119              0.859813           0.531443  ...   \n",
            "89927  119              0.688312           0.054347  ...   \n",
            "94654  119              1.000000           0.531443  ...   \n",
            "35275  323              0.859813           0.531443  ...   \n",
            "\n",
            "       HasCopyrightInfo_log  NoOfImage_log  NoOfCSS_log  NoOfJS_log  \\\n",
            "28021              0.810097       0.625150     0.659062    0.689763   \n",
            "71026              1.000000       0.817147     0.638495    0.683833   \n",
            "89927              1.000000       0.630930     0.625374    0.786384   \n",
            "94654              0.810097       0.682522     0.846863    0.767065   \n",
            "35275              1.000000       0.682522     0.638495    0.697629   \n",
            "\n",
            "       NoOfSelfRef_log  NoOfEmptyRef_log  NoOfExternalRef_log  URL_Length_log  \\\n",
            "28021         0.744580           0.00000             0.829597        0.057533   \n",
            "71026         0.855481           0.00000             0.734092        0.219760   \n",
            "89927         0.744580           0.19824             0.734092        0.094532   \n",
            "94654         0.744781           0.00000             0.734092        0.107443   \n",
            "35275         0.507555           0.00000             0.734092        0.087714   \n",
            "\n",
            "       Digit_Count_log  Special_Char_Count_log  \n",
            "28021              0.0                0.000000  \n",
            "71026              0.0                0.068832  \n",
            "89927              0.0                0.000000  \n",
            "94654              0.0                0.000000  \n",
            "35275              0.0                0.000000  \n",
            "\n",
            "[5 rows x 111 columns]\n",
            "             id  FILENAME   URL  URLLength  Domain  DomainLength  IsDomainIP  \\\n",
            "8409   0.050726     14134  4557   0.312805     310      0.583333         0.0   \n",
            "20959  0.140812         0  7090   0.312805    4891      0.358515         0.0   \n",
            "88797  0.634238      3211   153   0.225806     310      0.291667         0.0   \n",
            "24345  0.165647         0  6305   0.322581     310      0.358515         1.0   \n",
            "95019  0.679624         0  5892   0.129032     310      0.358515         0.0   \n",
            "\n",
            "       TLD  CharContinuationRate  TLDLegitimateProb  ...  \\\n",
            "8409   279              0.859813           0.054347  ...   \n",
            "20959   74              0.859813           1.000000  ...   \n",
            "88797   74              0.859813           1.000000  ...   \n",
            "24345   74              0.859813           0.531443  ...   \n",
            "95019   74              1.000000           1.000000  ...   \n",
            "\n",
            "       HasCopyrightInfo_log  NoOfImage_log  NoOfCSS_log  NoOfJS_log  \\\n",
            "8409               1.000000       0.682522     0.782288    0.804271   \n",
            "20959              0.810097       0.200000     0.625374    0.555759   \n",
            "88797              1.000000       0.252372     0.356207    0.689763   \n",
            "24345              1.000000       0.682522     0.625374    0.896319   \n",
            "95019              1.000000       0.682522     0.659062    0.555759   \n",
            "\n",
            "       NoOfSelfRef_log  NoOfEmptyRef_log  NoOfExternalRef_log  URL_Length_log  \\\n",
            "8409          0.175455          0.774501             0.734092        0.136180   \n",
            "20959         0.350911          0.000000             0.734092        0.107443   \n",
            "88797         0.175455          0.441701             0.184702        0.219760   \n",
            "24345         0.705717          0.314203             0.734092        0.113567   \n",
            "95019         0.664200          0.441701             0.734092        0.073253   \n",
            "\n",
            "       Digit_Count_log  Special_Char_Count_log  \n",
            "8409               0.0                0.000000  \n",
            "20959              0.0                0.000000  \n",
            "88797              0.0                0.068832  \n",
            "24345              0.0                0.000000  \n",
            "95019              0.0                0.000000  \n",
            "\n",
            "[5 rows x 111 columns]\n"
          ]
        }
      ],
      "source": [
        "print(X_train.head())\n",
        "print(X_val.head())\n"
      ]
    },
    {
      "cell_type": "markdown",
      "metadata": {
        "id": "jKQO9wtB8Pc0"
      },
      "source": [
        "### III. Handling Imbalanced Dataset\n",
        "\n",
        "**Handling imbalanced datasets** is important because imbalanced data can lead to several issues that negatively impact the performance and reliability of machine learning models. Here are some key reasons:\n",
        "\n",
        "1. **Biased Model Performance**:\n",
        "\n",
        " - Models trained on imbalanced data tend to be biased towards the majority class, leading to poor performance on the minority class. This can result in misleading accuracy metrics.\n",
        "\n",
        "2. **Misleading Accuracy**:\n",
        "\n",
        " - High overall accuracy can be misleading in imbalanced datasets. For example, if 95% of the data belongs to one class, a model that always predicts the majority class will have 95% accuracy but will fail to identify the minority class.\n",
        "\n",
        "3. **Poor Generalization**:\n",
        "\n",
        " - Models trained on imbalanced data may not generalize well to new, unseen data, especially if the minority class is underrepresented.\n",
        "\n",
        "\n",
        "Some methods to handle imbalanced datasets:\n",
        "1. **Resampling Methods**:\n",
        "\n",
        " - Oversampling: Increase the number of instances in the minority class by duplicating or generating synthetic samples (e.g., SMOTE).\n",
        " - Undersampling: Reduce the number of instances in the majority class to balance the dataset.\n",
        "\n",
        "2. **Evaluation Metrics**:\n",
        "\n",
        " - Use appropriate evaluation metrics such as precision, recall, F1-score, ROC-AUC, and confusion matrix instead of accuracy to better assess model performance on imbalanced data.\n",
        "\n",
        "3. **Algorithmic Approaches**:\n",
        "\n",
        " - Use algorithms that are designed to handle imbalanced data, such as decision trees, random forests, or ensemble methods.\n",
        " - Adjust class weights in algorithms to give more importance to the minority class."
      ]
    },
    {
      "cell_type": "code",
      "execution_count": 471,
      "metadata": {
        "id": "u2BQd2XJ9W1i"
      },
      "outputs": [
        {
          "name": "stdout",
          "output_type": "stream",
          "text": [
            "Distribusi kelas sebelum resampling: Counter({1: 103921, 0: 8402})\n",
            "Distribusi kelas setelah resampling: Counter({1: 103921, 0: 103921})\n"
          ]
        }
      ],
      "source": [
        "# Write your code here\n",
        "\n",
        "\n",
        "\n",
        "\n",
        "# Sebelum Resampling\n",
        "print(\"Distribusi kelas sebelum resampling:\", Counter(y_train))\n",
        "\n",
        "# Inisialisasi SMOTE\n",
        "smote = SMOTE(random_state=42)\n",
        "\n",
        "# Terapkan SMOTE ke data latih\n",
        "X_train_resampled, y_train_resampled = smote.fit_resample(X_train, y_train)\n",
        "\n",
        "# Setelah Resampling\n",
        "print(\"Distribusi kelas setelah resampling:\", Counter(y_train_resampled))\n"
      ]
    },
    {
      "cell_type": "markdown",
      "metadata": {
        "id": "-ctVzt5DLfHd"
      },
      "source": [
        "# 3. Compile Preprocessing Pipeline\n",
        "\n",
        "All of the preprocessing classes or functions defined earlier will be compiled in this step."
      ]
    },
    {
      "cell_type": "markdown",
      "metadata": {
        "id": "S_ZlncSVjJG6"
      },
      "source": [
        "If you use sklearn to create preprocessing classes, you can list your preprocessing classes in the Pipeline object sequentially, and then fit and transform your data."
      ]
    },
    {
      "cell_type": "code",
      "execution_count": 472,
      "metadata": {
        "id": "jHraoW_7LfHd"
      },
      "outputs": [],
      "source": [
        "# from sklearn.pipeline import Pipeline\n",
        "\n",
        "# # Note: You can add or delete preprocessing components from this pipeline\n",
        "\n",
        "# pipe = Pipeline([(\"imputer\", FeatureImputer()),\n",
        "#                  (\"featurecreator\", FeatureCreator()),\n",
        "#                  (\"scaler\", FeatureScaler()),\n",
        "#                  (\"encoder\", FeatureEncoder())])\n",
        "\n",
        "# train_set = pipe.fit_transform(train_set)\n",
        "# val_set = pipe.transform(val_set)"
      ]
    },
    {
      "cell_type": "code",
      "execution_count": 473,
      "metadata": {
        "id": "9s56aFFxLfHd"
      },
      "outputs": [],
      "source": [
        "# # Your code should work up until this point\n",
        "# train_set = pipe.fit_transform(train_set)\n",
        "# val_set = pipe.transform(val_set)"
      ]
    },
    {
      "cell_type": "markdown",
      "metadata": {
        "id": "SXoCqMztjhr-"
      },
      "source": [
        "or create your own here"
      ]
    },
    {
      "cell_type": "code",
      "execution_count": 474,
      "metadata": {
        "id": "7OoZ3oXEj2CW"
      },
      "outputs": [],
      "source": [
        "# Maaf kak, untuk bagian ini tidak saya kerjakan karena sebelumnya sudah saya coba \n",
        "# tapi error terus, sehingga saya jalankan manual tanpa menggunakan pipeline"
      ]
    },
    {
      "cell_type": "markdown",
      "metadata": {
        "id": "9A3adbZXLfHe"
      },
      "source": [
        "# 4. Modeling and Validation\n",
        "\n",
        "Modelling is the process of building your own machine learning models to solve specific problems, or in this assignment context, predicting the target feature `label`. Validation is the process of evaluating your trained model using the validation set or cross-validation method and providing some metrics that can help you decide what to do in the next iteration of development."
      ]
    },
    {
      "cell_type": "markdown",
      "metadata": {
        "id": "ZnhMNbBILfHf"
      },
      "source": [
        "## A. KNN"
      ]
    },
    {
      "cell_type": "code",
      "execution_count": 479,
      "metadata": {},
      "outputs": [
        {
          "name": "stderr",
          "output_type": "stream",
          "text": [
            "KNN Prediction Progress: 100%|██████████| 10000/10000 [07:03<00:00, 23.62it/s]\n"
          ]
        },
        {
          "name": "stdout",
          "output_type": "stream",
          "text": [
            "Akurasi KNN from scratch (subset): 0.82130\n",
            "Akurasi KNN scikit-learn (subset): 0.82130\n"
          ]
        }
      ],
      "source": [
        "# Kelas KNN from scratch\n",
        "class KNN:\n",
        "    def __init__(self, k=3, metric='euclidean'):\n",
        "        self.k = k\n",
        "        self.metric = metric\n",
        "        self.X_train = None\n",
        "        self.y_train = None\n",
        "\n",
        "    def fit(self, X, y):\n",
        "        self.X_train = X\n",
        "        self.y_train = y\n",
        "\n",
        "    def _distance(self, x1, x2):\n",
        "        if self.metric == 'euclidean':\n",
        "            return np.sqrt(np.sum((x1 - x2) ** 2))\n",
        "        elif self.metric == 'manhattan':\n",
        "            return np.sum(np.abs(x1 - x2))\n",
        "        elif self.metric == 'minkowski':\n",
        "            p = 3\n",
        "            return np.sum(np.abs(x1 - x2) ** p) ** (1 / p)\n",
        "\n",
        "    def predict(self, X):\n",
        "        predictions = []\n",
        "        for x in tqdm(X[:10000], desc=\"KNN Prediction Progress\"):  # Subset data\n",
        "            distances = np.linalg.norm(self.X_train - x, axis=1)  # Optimasi jarak\n",
        "            k_indices = np.argsort(distances)[:self.k]\n",
        "            k_nearest_labels = [self.y_train[i] for i in k_indices]\n",
        "            predictions.append(max(set(k_nearest_labels), key=k_nearest_labels.count))\n",
        "        return np.array(predictions)\n",
        "\n",
        "# Data latih dan validasi\n",
        "# Pastikan `X_train_resampled` dan `y_train_resampled` sesuai dengan hasil preprocessing di kodesementara.py\n",
        "# Misalnya, gunakan subset untuk percepatan\n",
        "X_train_subset = X_train_resampled.to_numpy()[:40000]\n",
        "y_train_subset = y_train_resampled.to_numpy()[:40000]\n",
        "X_val_subset = X_val.to_numpy()[:10000]\n",
        "y_val_subset = y_val.to_numpy()[:10000]\n",
        "\n",
        "# KNN from scratch\n",
        "knn_scratch = KNN(k=5, metric='euclidean')\n",
        "knn_scratch.fit(X_train_subset, y_train_subset)\n",
        "y_pred_scratch = knn_scratch.predict(X_val_subset)\n",
        "\n",
        "# KNN scikit-learn\n",
        "knn_sklearn = KNeighborsClassifier(n_neighbors=5, metric='euclidean')\n",
        "knn_sklearn.fit(X_train_subset, y_train_subset)\n",
        "y_pred_sklearn = knn_sklearn.predict(X_val_subset)\n",
        "\n",
        "# Evaluasi akurasi\n",
        "accuracy_scratch = accuracy_score(y_val_subset, y_pred_scratch)\n",
        "accuracy_sklearn = accuracy_score(y_val_subset, y_pred_sklearn)\n",
        "\n",
        "# Cetak hasil\n",
        "print(f\"Akurasi KNN from scratch (subset): {accuracy_scratch:.5f}\")\n",
        "print(f\"Akurasi KNN scikit-learn (subset): {accuracy_sklearn:.5f}\")\n"
      ]
    },
    {
      "cell_type": "markdown",
      "metadata": {
        "id": "nW0bMzkDLfHf"
      },
      "source": [
        "## B. Naive Bayes"
      ]
    },
    {
      "cell_type": "code",
      "execution_count": 481,
      "metadata": {},
      "outputs": [
        {
          "name": "stdout",
          "output_type": "stream",
          "text": [
            "Akurasi Gaussian Naive-Bayes from scratch: 0.98\n"
          ]
        }
      ],
      "source": [
        "# Type your code here\n",
        "\n",
        "\n",
        "class GaussianNaiveBayes:\n",
        "    def __init__(self):\n",
        "        self.classes = None\n",
        "        self.mean = {}\n",
        "        self.var = {}\n",
        "        self.priors = {}\n",
        "\n",
        "    def fit(self, X, y):\n",
        "        \"\"\"\n",
        "        Melatih Gaussian Naive Bayes dengan menghitung rata-rata, variansi,\n",
        "        dan probabilitas prior untuk setiap kelas.\n",
        "        \"\"\"\n",
        "        self.classes = np.unique(y)\n",
        "        for c in self.classes:\n",
        "            X_c = X[y == c]\n",
        "            self.mean[c] = X_c.mean(axis=0)\n",
        "            self.var[c] = X_c.var(axis=0)\n",
        "            self.priors[c] = X_c.shape[0] / X.shape[0]\n",
        "\n",
        "    def _gaussian_density(self, class_idx, x):\n",
        "        \"\"\"\n",
        "        Menghitung densitas Gaussian untuk fitur tertentu dengan regularisasi.\n",
        "        \"\"\"\n",
        "        mean = self.mean[class_idx]\n",
        "        var = self.var[class_idx] + 1e-9  # Regularisasi variansi\n",
        "        numerator = np.exp(-((x - mean) ** 2) / (2 * var))\n",
        "        denominator = np.sqrt(2 * np.pi * var)\n",
        "        return np.maximum(numerator / denominator, 1e-9)  # Hindari nol\n",
        "\n",
        "    def predict(self, X):\n",
        "        \"\"\"\n",
        "        Melakukan prediksi untuk data input.\n",
        "        \"\"\"\n",
        "        y_pred = []\n",
        "        for x in X:\n",
        "            posteriors = []\n",
        "            for c in self.classes:\n",
        "                prior = np.log(self.priors[c])  # Log prior\n",
        "                class_conditional = np.sum(np.log(self._gaussian_density(c, x)))\n",
        "                posterior = prior + class_conditional\n",
        "                posteriors.append(posterior)\n",
        "            y_pred.append(self.classes[np.argmax(posteriors)])\n",
        "        return np.array(y_pred)\n",
        "\n",
        "# Data latih dan validasi (gunakan hasil preprocessing dari `kodesementara.py`)\n",
        "X_train_resampled, y_train_resampled  # Data hasil SMOTE\n",
        "X_val, y_val  # Data validasi\n",
        "\n",
        "# Gaussian Naive-Bayes from scratch\n",
        "gnb_scratch = GaussianNaiveBayes()\n",
        "gnb_scratch.fit(X_train_resampled.to_numpy(), y_train_resampled.to_numpy())\n",
        "y_pred_scratch = gnb_scratch.predict(X_val.to_numpy())\n",
        "\n",
        "# Evaluasi akurasi\n",
        "accuracy_scratch = accuracy_score(y_val, y_pred_scratch)\n",
        "print(f\"Akurasi Gaussian Naive-Bayes from scratch: {accuracy_scratch:.2f}\")\n"
      ]
    },
    {
      "cell_type": "code",
      "execution_count": 482,
      "metadata": {},
      "outputs": [
        {
          "name": "stdout",
          "output_type": "stream",
          "text": [
            "Akurasi Gaussian Naive-Bayes (scikit-learn): 0.84\n"
          ]
        }
      ],
      "source": [
        "\n",
        "\n",
        "# Gaussian Naive-Bayes dengan scikit-learn\n",
        "gnb_sklearn = GaussianNB()\n",
        "gnb_sklearn.fit(X_train_resampled, y_train_resampled)\n",
        "y_pred_sklearn = gnb_sklearn.predict(X_val)\n",
        "\n",
        "# Evaluasi akurasi\n",
        "accuracy_sklearn = accuracy_score(y_val, y_pred_sklearn)\n",
        "print(f\"Akurasi Gaussian Naive-Bayes (scikit-learn): {accuracy_sklearn:.2f}\")\n"
      ]
    },
    {
      "cell_type": "code",
      "execution_count": 483,
      "metadata": {},
      "outputs": [],
      "source": [
        "# Kode bagian save CSV Error\n",
        "# # Simpan hasil prediksi Gaussian Naive-Bayes dalam CSV\n",
        "# # Prediksi data test\n",
        "# y_pred_gnb = gnb_scratch.predict(test_data.drop(columns=['id']).to_numpy())\n",
        "# # Simpan hasil prediksi Gaussian Naive-Bayes dalam CSV\n",
        "# submission_gnb = test_data[['id']].copy()  # Kolom ID dari test_data\n",
        "# submission_gnb['label'] = y_pred_gnb  # Tambahkan kolom prediksi\n",
        "# submission_gnb.to_csv('submission_gnb_scratch.csv', index=False)\n",
        "# print(\"Submission Gaussian Naive-Bayes from scratch disimpan sebagai 'submission_gnb_scratch.csv'\")\n"
      ]
    },
    {
      "cell_type": "markdown",
      "metadata": {
        "id": "LoH2u6fOLfHh"
      },
      "source": [
        "## C. Improvements (Optional)\n",
        "\n",
        "- **Visualize the model evaluation result**\n",
        "\n",
        "This will help you to understand the details more clearly about your model's performance. From the visualization, you can see clearly if your model is leaning towards a class than the others. (Hint: confusion matrix, ROC-AUC curve, etc.)\n",
        "\n",
        "- **Explore the hyperparameters of your models**\n",
        "\n",
        "Each models have their own hyperparameters. And each of the hyperparameter have different effects on the model behaviour. You can optimize the model performance by finding the good set of hyperparameters through a process called **hyperparameter tuning**. (Hint: Grid search, random search, bayesian optimization)\n",
        "\n",
        "- **Cross-validation**\n",
        "\n",
        "Cross-validation is a critical technique in machine learning and data science for evaluating and validating the performance of predictive models. It provides a more **robust** and **reliable** evaluation method compared to a hold-out (single train-test set) validation. Though, it requires more time and computing power because of how cross-validation works. (Hint: k-fold cross-validation, stratified k-fold cross-validation, etc.)"
      ]
    },
    {
      "cell_type": "code",
      "execution_count": null,
      "metadata": {
        "id": "pg-A54yELfHh"
      },
      "outputs": [],
      "source": [
        "# Type your code here"
      ]
    },
    {
      "cell_type": "markdown",
      "metadata": {
        "id": "Li4l53DjLfHh"
      },
      "source": [
        "## D. Submission\n",
        "To predict the test set target feature and submit the results to the kaggle competition platform, do the following:\n",
        "1. Create a new pipeline instance identical to the first in Data Preprocessing\n",
        "2. With the pipeline, apply `fit_transform` to the original training set before splitting, then only apply `transform` to the test set.\n",
        "3. Retrain the model on the preprocessed training set\n",
        "4. Predict the test set\n",
        "5. Make sure the submission contains the `id` and `label` column.\n",
        "\n",
        "Note: Adjust step 1 and 2 to your implementation of the preprocessing step if you don't use pipeline API from `sklearn`."
      ]
    },
    {
      "cell_type": "code",
      "execution_count": 403,
      "metadata": {
        "id": "LeqnfWc-LfHi"
      },
      "outputs": [],
      "source": [
        "# Type your code here\n",
        "import pickle\n",
        "\n",
        "# Fungsi untuk menyimpan model\n",
        "def save_model(model, filename):\n",
        "    \"\"\"\n",
        "    Menyimpan model ke file .pkl.\n",
        "    :param model: Model yang ingin disimpan.\n",
        "    :param filename: Nama file untuk menyimpan model.\n",
        "    \"\"\"\n",
        "    with open(filename, 'wb') as file:\n",
        "        pickle.dump(model, file)\n",
        "    print(f\"Model disimpan ke {filename}\")\n",
        "\n",
        "# Fungsi untuk memuat model\n",
        "def load_model(filename):\n",
        "    \"\"\"\n",
        "    Memuat model dari file .pkl.\n",
        "    :param filename: Nama file yang menyimpan model.\n",
        "    :return: Model yang dimuat.\n",
        "    \"\"\"\n",
        "    with open(filename, 'rb') as file:\n",
        "        model = pickle.load(file)\n",
        "    print(f\"Model dimuat dari {filename}\")\n",
        "    return model\n"
      ]
    },
    {
      "cell_type": "code",
      "execution_count": 404,
      "metadata": {},
      "outputs": [
        {
          "name": "stdout",
          "output_type": "stream",
          "text": [
            "Model disimpan ke knn_scratch_model.pkl\n",
            "Model disimpan ke knn_sklearn_model.pkl\n"
          ]
        }
      ],
      "source": [
        "# Simpan model KNN from scratch\n",
        "save_model(knn_scratch, 'knn_scratch_model.pkl')\n",
        "\n",
        "# Simpan model KNN scikit-learn\n",
        "save_model(knn_sklearn, 'knn_sklearn_model.pkl')\n"
      ]
    },
    {
      "cell_type": "code",
      "execution_count": 405,
      "metadata": {},
      "outputs": [
        {
          "name": "stdout",
          "output_type": "stream",
          "text": [
            "Model disimpan ke gnb_scratch_model.pkl\n",
            "Model disimpan ke gnb_sklearn_model.pkl\n"
          ]
        }
      ],
      "source": [
        "# Simpan model Gaussian Naive-Bayes from scratch\n",
        "save_model(gnb_scratch, 'gnb_scratch_model.pkl')\n",
        "\n",
        "# Simpan model Gaussian Naive-Bayes scikit-learn\n",
        "save_model(gnb_sklearn, 'gnb_sklearn_model.pkl')\n"
      ]
    },
    {
      "cell_type": "code",
      "execution_count": null,
      "metadata": {},
      "outputs": [],
      "source": [
        "# Muat model KNN from scratch\n",
        "loaded_knn_scratch = load_model('knn_scratch_model.pkl')\n",
        "\n",
        "# Muat model KNN scikit-learn\n",
        "loaded_knn_sklearn = load_model('knn_sklearn_model.pkl')\n"
      ]
    },
    {
      "cell_type": "code",
      "execution_count": null,
      "metadata": {},
      "outputs": [],
      "source": [
        "# Muat model Gaussian Naive-Bayes from scratch\n",
        "loaded_gnb_scratch = load_model('gnb_scratch_model.pkl')\n",
        "\n",
        "# Muat model Gaussian Naive-Bayes scikit-learn\n",
        "loaded_gnb_sklearn = load_model('gnb_sklearn_model.pkl')\n"
      ]
    },
    {
      "cell_type": "markdown",
      "metadata": {
        "id": "R-jXvKOpLfHi"
      },
      "source": [
        "# 6. Error Analysis\n",
        "\n",
        "Based on all the process you have done until the modeling and evaluation step, write an analysis to support each steps you have taken to solve this problem. Write the analysis using the markdown block. Some questions that may help you in writing the analysis:\n",
        "\n",
        "- Does my model perform better in predicting one class than the other? If so, why is that?\n",
        "- To each models I have tried, which performs the best and what could be the reason?\n",
        "- Is it better for me to impute or drop the missing data? Why?\n",
        "- Does feature scaling help improve my model performance?\n",
        "- etc..."
      ]
    },
    {
      "cell_type": "markdown",
      "metadata": {
        "id": "tWL3nEAELfHj"
      },
      "source": [
        "`Provide your analysis here`"
      ]
    }
  ],
  "metadata": {
    "colab": {
      "provenance": []
    },
    "kernelspec": {
      "display_name": ".venv",
      "language": "python",
      "name": "python3"
    },
    "language_info": {
      "codemirror_mode": {
        "name": "ipython",
        "version": 3
      },
      "file_extension": ".py",
      "mimetype": "text/x-python",
      "name": "python",
      "nbconvert_exporter": "python",
      "pygments_lexer": "ipython3",
      "version": "3.11.9"
    }
  },
  "nbformat": 4,
  "nbformat_minor": 0
}
